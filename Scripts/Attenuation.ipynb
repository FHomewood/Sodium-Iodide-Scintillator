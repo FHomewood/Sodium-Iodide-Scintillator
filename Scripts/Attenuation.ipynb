{
 "cells": [
  {
   "cell_type": "code",
   "execution_count": null,
   "metadata": {
    "scrolled": false
   },
   "outputs": [
    {
     "name": "stdout",
     "output_type": "stream",
     "text": [
      "Save image as:\n"
     ]
    }
   ],
   "source": [
    "#import libraries\n",
    "import numpy as num;\n",
    "import matplotlib.pyplot as plt;\n",
    "from scipy import optimize\n",
    "\n",
    "#define data ranges\n",
    "x = [3.93, 9.36,14.75,21.22,26.44,29.51,32.12];  #Lead Thickness [m]\n",
    "dx= [0.08,0.33,0.61,0.71,0.77,0.94,0.94];  #Lead Thickness error [m]\n",
    "y = [16260.9461517,\n",
    "     12265.7691163,\n",
    "     8150.28610659,\n",
    "     5231.30147146,\n",
    "     4201.63840533,\n",
    "     3475.20965271,\n",
    "     2433.55807146]; #Peak Area []\n",
    "dy= [369.347683167,\n",
    "     553.204029157,\n",
    "     185.527408642,\n",
    "     239.710360813,\n",
    "     272.575204837,\n",
    "     219.862850825,\n",
    "     151.749825149]; #Peak Area error []\n",
    "\n",
    "def exp(x,t,a):\n",
    "    return a*num.exp(x/-t);\n",
    "\n",
    "modeldata = num.linspace(1/2*min(x),2*max(x),100);   #Smooth-Esque Range\n",
    "\n",
    "#Establish Filepath\n",
    "filepath = 'E:\\\\NaI Scintillation\\\\Useful Images\\\\';\n",
    "print(\"Save image as:\")\n",
    "filepath += input()\n",
    "\n",
    "#Ammendment\n",
    "image = plt.figure(\n",
    "        num=None, figsize=(10, 10), dpi=1200, facecolor='w', edgecolor='k')\n",
    "expCoeff, expCov = optimize.curve_fit(exp,x,y,p0=[10,20000])\n",
    "chisq = sum([((i-(-expCoeff[0]*num.log(j/expCoeff[1])))/di)**2\n",
    "             for i,j,di,dj in zip(x,y,dx,dy)]); #Chi-Squared\n",
    "plt.errorbar(x,y,dy,dx,'bx',elinewidth = 0.5,capsize = 2)\n",
    "plt.plot(modeldata,exp(modeldata,expCoeff[0],expCoeff[1]),'k-')\n",
    "plt.show()\n",
    "image.savefig(filepath + ' Curve_Fit.png')\n",
    "\n",
    "file = open(filepath + \" Details.txt\",\"w\")\n",
    "\n",
    "file.write(\"Covariance Matrix \\n\")\n",
    "file.write(str(expCov) + \"\\n\")\n",
    "file.write(\"Attenuation Thickness \\n\")\n",
    "file.write(str(expCoeff[0]) + \" \\n\")\n",
    "file.write(\"Scalar \\n\")\n",
    "file.write(str(expCoeff[1]) + \" \\n\")\n",
    "file.write(\"Chi Squared \\n\")\n",
    "file.write(str(chisq) + \" \\n\")\n",
    "\n",
    "file.close()\n",
    "print(\"Finished\")"
   ]
  },
  {
   "cell_type": "code",
   "execution_count": null,
   "metadata": {
    "collapsed": true
   },
   "outputs": [],
   "source": []
  }
 ],
 "metadata": {
  "kernelspec": {
   "display_name": "Python 3",
   "language": "python",
   "name": "python3"
  },
  "language_info": {
   "codemirror_mode": {
    "name": "ipython",
    "version": 3
   },
   "file_extension": ".py",
   "mimetype": "text/x-python",
   "name": "python",
   "nbconvert_exporter": "python",
   "pygments_lexer": "ipython3",
   "version": "3.6.4"
  }
 },
 "nbformat": 4,
 "nbformat_minor": 2
}
